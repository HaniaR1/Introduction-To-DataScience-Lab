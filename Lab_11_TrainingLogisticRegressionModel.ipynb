{
 "cells": [
  {
   "cell_type": "markdown",
   "metadata": {
    "id": "0MRC0e0KhQ0S"
   },
   "source": [
    "# Name: Hania Rasheed\n",
    "# Reg no: B23S0983DS009\n",
    "# Program: DS 23 (S)\n",
    "\n",
    "\n",
    "# Logistic Regression\n",
    "- Logistic regression is a process of modeling the probability of a discrete outcome given an input variable. The most common logistic regression models a binary outcome; something that can take two values such as true/false, yes/no, and so on."
   ]
  },
  {
   "cell_type": "markdown",
   "metadata": {
    "id": "LWd1UlMnhT2s"
   },
   "source": [
    "## Importing the libraries"
   ]
  },
  {
   "cell_type": "code",
   "execution_count": 1,
   "metadata": {
    "executionInfo": {
     "elapsed": 18,
     "status": "ok",
     "timestamp": 1667109117708,
     "user": {
      "displayName": "Hadelin de Ponteves",
      "userId": "15047218817161520419"
     },
     "user_tz": -240
    },
    "id": "YvGPUQaHhXfL"
   },
   "outputs": [],
   "source": [
    "import numpy as np\n",
    "import matplotlib.pyplot as plt\n",
    "import pandas as pd"
   ]
  },
  {
   "cell_type": "markdown",
   "metadata": {
    "id": "K1VMqkGvhc3-"
   },
   "source": [
    "## Importing the dataset\n",
    "- According to the requirements, we need to create a binary classification column named price trajectory."
   ]
  },
  {
   "cell_type": "code",
   "execution_count": 14,
   "metadata": {
    "executionInfo": {
     "elapsed": 17,
     "status": "ok",
     "timestamp": 1667109117708,
     "user": {
      "displayName": "Hadelin de Ponteves",
      "userId": "15047218817161520419"
     },
     "user_tz": -240
    },
    "id": "M52QDmyzhh9s"
   },
   "outputs": [
    {
     "name": "stdout",
     "output_type": "stream",
     "text": [
      "         Date          Open          High           Low         Close  \\\n",
      "0  2023-03-21  27768.392578  28439.562500  27439.646484  28175.816406   \n",
      "1  2023-03-22  28158.720703  28803.335938  26759.996094  27307.437500   \n",
      "2  2023-03-23  27301.957031  28729.843750  27183.363281  28333.972656   \n",
      "3  2023-03-24  28324.111328  28388.437500  27039.265625  27493.285156   \n",
      "4  2023-03-25  27487.337891  27791.826172  27196.234375  27494.707031   \n",
      "\n",
      "      Adj Close        Volume  Price_Trajectory  \n",
      "0  28175.816406  3.610219e+10                 0  \n",
      "1  27307.437500  3.338202e+10                 1  \n",
      "2  28333.972656  2.422043e+10                 0  \n",
      "3  27493.285156  2.598031e+10                 1  \n",
      "4  27494.707031  1.338301e+10                 1  \n",
      "[[28175.816406]\n",
      " [27307.4375  ]\n",
      " [28333.972656]\n",
      " [27493.285156]\n",
      " [27494.707031]]\n",
      "[0 1 0 1 1]\n"
     ]
    },
    {
     "name": "stderr",
     "output_type": "stream",
     "text": [
      "C:\\Users\\hania\\AppData\\Local\\Temp\\ipykernel_8832\\685069678.py:9: SettingWithCopyWarning: \n",
      "A value is trying to be set on a copy of a slice from a DataFrame\n",
      "\n",
      "See the caveats in the documentation: https://pandas.pydata.org/pandas-docs/stable/user_guide/indexing.html#returning-a-view-versus-a-copy\n",
      "  dataset['Price_Trajectory'].iloc[-1] = 0\n"
     ]
    }
   ],
   "source": [
    "dataset = pd.read_csv(\"BTC-USD.csv\")\n",
    "dataset.dropna(inplace=True)\n",
    "dataset = dataset.sort_values(by='Date')\n",
    "\n",
    "# Create the binary classification column 'Price_Trajectory'\n",
    "dataset['Price_Trajectory'] = (dataset['Close'].shift(-1) >= dataset['Close']).astype(int)\n",
    "# if closing of upcoming day is greater or equal than previous day, store it as binary one\n",
    "# Handle the last row NaN by setting it to 0 or dropping it\n",
    "dataset['Price_Trajectory'].iloc[-1] = 0\n",
    "\n",
    "# Extract features (X) and target (y)\n",
    "# Assuming 'Price' is a feature you want to use for prediction. Replace 'Price' with the correct column name if it's different.\n",
    "X = dataset[['Close']].values  # Example feature. Modify based on your actual features.\n",
    "y = dataset['Price_Trajectory'].values\n",
    "\n",
    "# Print the first few rows to verify\n",
    "print(dataset.head())\n",
    "print(X[:5])\n",
    "print(y[:5])\n"
   ]
  },
  {
   "cell_type": "markdown",
   "metadata": {
    "id": "YvxIPVyMhmKp"
   },
   "source": [
    "## Splitting the dataset into the Training set and Test set"
   ]
  },
  {
   "cell_type": "code",
   "execution_count": 15,
   "metadata": {
    "executionInfo": {
     "elapsed": 18,
     "status": "ok",
     "timestamp": 1667109117709,
     "user": {
      "displayName": "Hadelin de Ponteves",
      "userId": "15047218817161520419"
     },
     "user_tz": -240
    },
    "id": "AVzJWAXIhxoC"
   },
   "outputs": [],
   "source": [
    "from sklearn.model_selection import train_test_split\n",
    "X_train, X_test, y_train, y_test = train_test_split(X, y, test_size = 0.25, random_state = 0)"
   ]
  },
  {
   "cell_type": "code",
   "execution_count": 16,
   "metadata": {
    "colab": {
     "base_uri": "https://localhost:8080/"
    },
    "executionInfo": {
     "elapsed": 17,
     "status": "ok",
     "timestamp": 1667109117709,
     "user": {
      "displayName": "Hadelin de Ponteves",
      "userId": "15047218817161520419"
     },
     "user_tz": -240
    },
    "id": "P3nS3-6r1i2B",
    "outputId": "b7cf7b7b-4b41-456e-97c1-9d3f4574bead"
   },
   "outputs": [
    {
     "name": "stdout",
     "output_type": "stream",
     "text": [
      "[[27159.652344]\n",
      " [35049.355469]\n",
      " [27968.839844]\n",
      " [29074.091797]\n",
      " [30295.806641]\n",
      " [26719.291016]\n",
      " [29151.958984]\n",
      " [28199.308594]\n",
      " [68498.882813]\n",
      " [26008.462891]\n",
      " [46368.585938]\n",
      " [25833.34375 ]\n",
      " [27925.859375]\n",
      " [33901.527344]\n",
      " [29282.914063]\n",
      " [43185.859375]\n",
      " [37313.96875 ]\n",
      " [34502.820313]\n",
      " [30620.769531]\n",
      " [72123.90625 ]\n",
      " [27415.912109]\n",
      " [42156.902344]\n",
      " [43023.972656]\n",
      " [26568.28125 ]\n",
      " [42511.96875 ]\n",
      " [26049.556641]\n",
      " [35437.253906]\n",
      " [25851.240234]\n",
      " [27307.4375  ]\n",
      " [26124.140625]\n",
      " [28348.441406]\n",
      " [41450.222656]\n",
      " [37289.621094]\n",
      " [26431.640625]\n",
      " [29227.390625]\n",
      " [42099.402344]\n",
      " [29675.732422]\n",
      " [42623.539063]\n",
      " [38688.75    ]\n",
      " [27591.384766]\n",
      " [61198.382813]\n",
      " [27525.339844]\n",
      " [67913.671875]\n",
      " [30271.130859]\n",
      " [25124.675781]\n",
      " [29993.896484]\n",
      " [39933.808594]\n",
      " [27297.265625]\n",
      " [73083.5     ]\n",
      " [26579.390625]\n",
      " [25779.982422]\n",
      " [30342.265625]\n",
      " [28904.623047]\n",
      " [41618.40625 ]\n",
      " [26754.28125 ]\n",
      " [27249.589844]\n",
      " [29042.126953]\n",
      " [63167.371094]\n",
      " [25812.416016]\n",
      " [42627.855469]\n",
      " [28822.679688]\n",
      " [43292.664063]\n",
      " [37720.28125 ]\n",
      " [42842.382813]\n",
      " [42583.582031]\n",
      " [29445.044922]\n",
      " [35443.5625  ]\n",
      " [26228.324219]\n",
      " [26162.373047]\n",
      " [25905.654297]\n",
      " [29041.855469]\n",
      " [26352.716797]\n",
      " [43997.902344]\n",
      " [37432.339844]\n",
      " [37831.085938]\n",
      " [28307.597656]\n",
      " [35037.371094]\n",
      " [33086.234375]\n",
      " [36693.125   ]\n",
      " [37054.519531]\n",
      " [28847.710938]\n",
      " [71481.289063]\n",
      " [29319.246094]\n",
      " [29912.28125 ]\n",
      " [30414.470703]\n",
      " [25969.566406]\n",
      " [37479.121094]\n",
      " [34667.78125 ]\n",
      " [27947.794922]\n",
      " [41980.097656]\n",
      " [26508.216797]\n",
      " [43084.671875]\n",
      " [27219.658203]\n",
      " [35082.195313]\n",
      " [39507.367188]\n",
      " [66925.484375]\n",
      " [27429.978516]\n",
      " [26106.150391]\n",
      " [69403.773438]\n",
      " [27727.392578]\n",
      " [25902.5     ]\n",
      " [26217.25    ]\n",
      " [67548.59375 ]\n",
      " [30145.888672]\n",
      " [51938.554688]\n",
      " [36502.355469]\n",
      " [54522.402344]\n",
      " [30171.234375]\n",
      " [26664.550781]\n",
      " [26047.667969]\n",
      " [26189.583984]\n",
      " [28044.140625]\n",
      " [35537.640625]\n",
      " [27119.066406]\n",
      " [30292.541016]\n",
      " [42853.167969]\n",
      " [26756.798828]\n",
      " [37858.492188]\n",
      " [29180.578125]\n",
      " [71396.59375 ]\n",
      " [27494.707031]\n",
      " [30480.261719]\n",
      " [28168.089844]\n",
      " [26753.826172]\n",
      " [26868.353516]\n",
      " [42582.605469]\n",
      " [27983.75    ]\n",
      " [26031.65625 ]\n",
      " [34502.363281]\n",
      " [42520.402344]\n",
      " [69019.789063]\n",
      " [51571.101563]\n",
      " [29268.806641]\n",
      " [30620.951172]\n",
      " [27790.220703]\n",
      " [29909.337891]\n",
      " [34938.242188]\n",
      " [43016.117188]\n",
      " [27493.285156]\n",
      " [37796.792969]\n",
      " [29176.916016]\n",
      " [30485.699219]\n",
      " [28245.988281]\n",
      " [27238.783203]\n",
      " [35655.277344]\n",
      " [26298.480469]\n",
      " [26567.632813]\n",
      " [51304.972656]\n",
      " [43652.25    ]\n",
      " [62440.632813]\n",
      " [28333.050781]\n",
      " [42120.054688]\n",
      " [63801.199219]\n",
      " [27211.117188]\n",
      " [45301.566406]\n",
      " [26480.375   ]\n",
      " [27000.789063]\n",
      " [28333.972656]\n",
      " [28411.035156]\n",
      " [31156.439453]\n",
      " [41364.664063]\n",
      " [25576.394531]\n",
      " [28478.484375]\n",
      " [28422.701172]\n",
      " [68330.414063]\n",
      " [26832.208984]\n",
      " [28091.568359]\n",
      " [27621.755859]\n",
      " [28519.466797]\n",
      " [49958.222656]\n",
      " [44957.96875 ]\n",
      " [43154.945313]\n",
      " [29771.802734]\n",
      " [34538.480469]\n",
      " [26851.277344]\n",
      " [43869.152344]\n",
      " [29356.917969]\n",
      " [26256.826172]\n",
      " [30399.066406]\n",
      " [29006.308594]\n",
      " [28175.816406]\n",
      " [27935.089844]\n",
      " [39845.550781]\n",
      " [30688.164063]\n",
      " [26608.693359]\n",
      " [39476.332031]\n",
      " [30695.46875 ]\n",
      " [52284.875   ]\n",
      " [30548.695313]\n",
      " [42992.25    ]\n",
      " [25753.236328]\n",
      " [27745.884766]\n",
      " [27694.273438]\n",
      " [26861.707031]\n",
      " [43613.140625]\n",
      " [34732.324219]\n",
      " [28701.779297]\n",
      " [29397.714844]\n",
      " [26534.1875  ]\n",
      " [29275.308594]\n",
      " [47147.199219]\n",
      " [61912.773438]\n",
      " [44166.601563]\n",
      " [27391.019531]\n",
      " [25918.728516]\n",
      " [29792.015625]\n",
      " [42035.59375 ]\n",
      " [52122.546875]\n",
      " [28327.488281]\n",
      " [25940.167969]\n",
      " [42890.742188]\n",
      " [29856.5625  ]\n",
      " [43989.195313]\n",
      " [27398.802734]\n",
      " [39978.390625]\n",
      " [65315.117188]\n",
      " [28680.537109]\n",
      " [30777.582031]\n",
      " [42270.527344]\n",
      " [42658.667969]\n",
      " [29340.261719]\n",
      " [26784.078125]\n",
      " [42952.609375]\n",
      " [29210.689453]\n",
      " [44162.691406]\n",
      " [30397.552734]\n",
      " [27132.007813]\n",
      " [25931.472656]\n",
      " [26096.205078]\n",
      " [37476.957031]\n",
      " [27583.677734]\n",
      " [27276.910156]\n",
      " [27817.5     ]\n",
      " [29354.972656]\n",
      " [26579.568359]\n",
      " [50731.949219]\n",
      " [42848.175781]\n",
      " [51826.695313]\n",
      " [29170.347656]\n",
      " [42265.1875  ]\n",
      " [62504.789063]\n",
      " [26539.673828]\n",
      " [30086.246094]\n",
      " [51779.144531]\n",
      " [27799.394531]\n",
      " [37386.546875]\n",
      " [30334.068359]\n",
      " [41243.832031]\n",
      " [26819.972656]\n",
      " [51662.996094]\n",
      " [30318.496094]\n",
      " [25868.798828]\n",
      " [51839.179688]\n",
      " [66106.804688]\n",
      " [25162.654297]\n",
      " [68300.09375 ]\n",
      " [29248.488281]\n",
      " [26967.916016]\n",
      " [43288.246094]\n",
      " [26510.675781]\n",
      " [27702.349609]\n",
      " [26327.462891]\n",
      " [43943.097656]\n",
      " [36585.703125]\n",
      " [43739.542969]\n",
      " [28328.341797]\n",
      " [28033.5625  ]\n",
      " [27530.785156]\n",
      " [37254.167969]\n",
      " [44318.222656]\n",
      " [26911.720703]\n",
      " [30249.132813]\n",
      " [28454.978516]\n",
      " [25895.677734]]\n"
     ]
    }
   ],
   "source": [
    "print(X_train)"
   ]
  },
  {
   "cell_type": "code",
   "execution_count": 17,
   "metadata": {
    "colab": {
     "base_uri": "https://localhost:8080/"
    },
    "executionInfo": {
     "elapsed": 14,
     "status": "ok",
     "timestamp": 1667109117709,
     "user": {
      "displayName": "Hadelin de Ponteves",
      "userId": "15047218817161520419"
     },
     "user_tz": -240
    },
    "id": "8dpDLojm1mVG",
    "outputId": "7c780bd2-9e7e-4f90-fe9a-da2e1adbc94b"
   },
   "outputs": [
    {
     "name": "stdout",
     "output_type": "stream",
     "text": [
      "[1 0 0 0 0 1 1 0 1 1 0 1 1 1 1 0 0 0 1 0 1 1 0 0 1 1 0 1 1 0 0 1 1 0 1 1 0\n",
      " 0 1 0 1 1 0 1 1 1 1 0 0 0 0 0 0 1 1 0 0 1 0 0 0 1 1 0 1 1 1 1 0 0 1 1 0 0\n",
      " 1 1 1 1 1 0 1 1 1 1 1 0 0 1 1 1 0 1 0 0 1 1 1 1 0 0 1 1 0 0 1 0 1 1 0 0 0\n",
      " 0 1 0 0 0 1 0 1 0 1 0 1 1 1 1 0 1 1 1 1 1 0 0 1 1 0 1 1 0 1 0 0 0 1 0 1 0\n",
      " 1 0 1 0 1 0 1 0 0 0 0 0 1 1 0 1 0 1 1 0 0 0 0 0 1 0 1 1 0 1 1 0 0 0 1 0 0\n",
      " 1 0 0 0 0 1 0 0 1 0 1 0 1 1 0 1 1 0 0 0 1 1 0 1 0 1 1 0 0 1 1 1 0 1 1 0 1\n",
      " 0 1 0 0 0 0 1 0 0 1 0 0 0 1 1 1 0 1 0 1 1 1 0 1 0 1 1 1 0 1 0 1 1 1 1 1 0\n",
      " 0 0 1 1 1 0 1 1 0 1 1 1 0 0 0]\n"
     ]
    }
   ],
   "source": [
    "print(y_train)"
   ]
  },
  {
   "cell_type": "code",
   "execution_count": 18,
   "metadata": {
    "colab": {
     "base_uri": "https://localhost:8080/"
    },
    "executionInfo": {
     "elapsed": 11,
     "status": "ok",
     "timestamp": 1667109117710,
     "user": {
      "displayName": "Hadelin de Ponteves",
      "userId": "15047218817161520419"
     },
     "user_tz": -240
    },
    "id": "qbb7i0DH1qui",
    "outputId": "314da6d3-c60f-453a-fc86-872b94f44477",
    "scrolled": true
   },
   "outputs": [
    {
     "name": "stdout",
     "output_type": "stream",
     "text": [
      "[[30514.166016]\n",
      " [44080.648438]\n",
      " [29534.384766]\n",
      " [30315.355469]\n",
      " [26345.998047]\n",
      " [62029.847656]\n",
      " [26851.029297]\n",
      " [41816.871094]\n",
      " [37880.582031]\n",
      " [27139.888672]\n",
      " [29913.923828]\n",
      " [29561.494141]\n",
      " [43725.984375]\n",
      " [44167.332031]\n",
      " [41796.269531]\n",
      " [28415.748047]\n",
      " [46139.730469]\n",
      " [30477.251953]\n",
      " [34089.574219]\n",
      " [29765.492188]\n",
      " [29429.591797]\n",
      " [27946.597656]\n",
      " [26890.128906]\n",
      " [46970.503906]\n",
      " [42742.652344]\n",
      " [37712.746094]\n",
      " [28085.646484]\n",
      " [52160.203125]\n",
      " [30391.646484]\n",
      " [27021.546875]\n",
      " [30084.539063]\n",
      " [30590.078125]\n",
      " [28177.984375]\n",
      " [29473.787109]\n",
      " [26930.638672]\n",
      " [27994.330078]\n",
      " [27129.585938]\n",
      " [29230.111328]\n",
      " [43779.699219]\n",
      " [26334.818359]\n",
      " [26862.375   ]\n",
      " [41262.058594]\n",
      " [28719.806641]\n",
      " [43746.445313]\n",
      " [29652.980469]\n",
      " [41665.585938]\n",
      " [29682.949219]\n",
      " [29918.412109]\n",
      " [36154.769531]\n",
      " [26476.207031]\n",
      " [25832.226563]\n",
      " [33909.800781]\n",
      " [37138.050781]\n",
      " [25800.724609]\n",
      " [30027.296875]\n",
      " [27192.693359]\n",
      " [26804.990234]\n",
      " [29178.679688]\n",
      " [26336.212891]\n",
      " [25760.097656]\n",
      " [47771.277344]\n",
      " [42240.117188]\n",
      " [27268.130859]\n",
      " [30445.351563]\n",
      " [48293.917969]\n",
      " [57085.371094]\n",
      " [27036.650391]\n",
      " [29908.744141]\n",
      " [34156.648438]\n",
      " [26089.693359]\n",
      " [27075.128906]\n",
      " [26240.195313]\n",
      " [31476.048828]\n",
      " [46627.777344]\n",
      " [27225.726563]\n",
      " [36596.683594]\n",
      " [41545.785156]\n",
      " [43075.773438]\n",
      " [35813.8125  ]\n",
      " [49742.441406]\n",
      " [30235.058594]\n",
      " [29415.964844]\n",
      " [29408.443359]\n",
      " [27658.775391]\n",
      " [68390.625   ]\n",
      " [51733.238281]\n",
      " [40077.074219]\n",
      " [26873.320313]\n",
      " [41929.757813]\n",
      " [43442.855469]\n",
      " [44179.921875]\n",
      " [30139.052734]]\n"
     ]
    }
   ],
   "source": [
    "print(X_test)"
   ]
  },
  {
   "cell_type": "code",
   "execution_count": 19,
   "metadata": {
    "colab": {
     "base_uri": "https://localhost:8080/"
    },
    "executionInfo": {
     "elapsed": 9,
     "status": "ok",
     "timestamp": 1667109117710,
     "user": {
      "displayName": "Hadelin de Ponteves",
      "userId": "15047218817161520419"
     },
     "user_tz": -240
    },
    "id": "kj1hnFAR1s5w",
    "outputId": "f7ddcfd8-9457-4934-ea68-520f94513299"
   },
   "outputs": [
    {
     "name": "stdout",
     "output_type": "stream",
     "text": [
      "[0 0 0 0 1 1 1 1 0 1 0 0 1 1 1 0 1 1 1 0 0 1 1 0 0 1 0 0 1 0 0 1 0 0 1 0 0\n",
      " 1 0 1 0 1 1 0 1 0 1 1 1 1 0 1 0 1 0 0 0 0 1 1 1 0 1 1 1 1 1 0 0 1 1 0 0 0\n",
      " 0 0 0 1 1 1 0 0 0 0 0 1 0 0 1 0 0 1]\n"
     ]
    }
   ],
   "source": [
    "print(y_test)"
   ]
  },
  {
   "cell_type": "markdown",
   "metadata": {
    "id": "kW3c7UYih0hT"
   },
   "source": [
    "## Feature Scaling"
   ]
  },
  {
   "cell_type": "markdown",
   "metadata": {},
   "source": [
    "- Feature Scaling method computes the mean and standard deviation of each feature in the training set (X_train) and testing set (X_test), and then standardizes the features based on these statistics.\n",
    "\n",
    "Standardization, also known as z-score normalization, is a preprocessing technique used in machine learning to transform features so that they have a mean of 0 and a standard deviation of 1. This process involves subtracting the mean of each feature from the data and then dividing by the standard deviation.\n",
    "\n",
    "Standardization is particularly useful when the features in the dataset have different scales or units. By standardizing the features, you ensure that each feature contributes equally to the analysis and prevents features with larger scales from dominating those with smaller scales.\n",
    "\n",
    "- The StandardScaler function of sklearn is based on the theory that the dataset's variables whose values lie in different ranges do not have an equal contribution to the model's fit parameters and training function and may even lead to bias in the predictions made with that model."
   ]
  },
  {
   "cell_type": "code",
   "execution_count": 20,
   "metadata": {
    "executionInfo": {
     "elapsed": 668,
     "status": "ok",
     "timestamp": 1667109118371,
     "user": {
      "displayName": "Hadelin de Ponteves",
      "userId": "15047218817161520419"
     },
     "user_tz": -240
    },
    "id": "9fQlDPKCh8sc"
   },
   "outputs": [],
   "source": [
    "from sklearn.preprocessing import StandardScaler\n",
    "sc = StandardScaler()\n",
    "X_train = sc.fit_transform(X_train)\n",
    "X_test = sc.transform(X_test)"
   ]
  },
  {
   "cell_type": "code",
   "execution_count": 21,
   "metadata": {
    "colab": {
     "base_uri": "https://localhost:8080/"
    },
    "executionInfo": {
     "elapsed": 20,
     "status": "ok",
     "timestamp": 1667109118372,
     "user": {
      "displayName": "Hadelin de Ponteves",
      "userId": "15047218817161520419"
     },
     "user_tz": -240
    },
    "id": "syrnD1Op2BSR",
    "outputId": "8c734691-161d-4096-b5f3-8a1d478d66ee"
   },
   "outputs": [
    {
     "name": "stdout",
     "output_type": "stream",
     "text": [
      "[[-7.27702954e-01]\n",
      " [-3.71924516e-02]\n",
      " [-6.56882486e-01]\n",
      " [-5.60150319e-01]\n",
      " [-4.53225265e-01]\n",
      " [-7.66243583e-01]\n",
      " [-5.53335346e-01]\n",
      " [-6.36711753e-01]\n",
      " [ 2.89032580e+00]\n",
      " [-8.28455593e-01]\n",
      " [ 9.53471886e-01]\n",
      " [-8.43782102e-01]\n",
      " [-6.60644157e-01]\n",
      " [-1.37650905e-01]\n",
      " [-5.41874097e-01]\n",
      " [ 6.74918171e-01]\n",
      " [ 1.61007560e-01]\n",
      " [-8.50254637e-02]\n",
      " [-4.24784361e-01]\n",
      " [ 3.20758955e+00]\n",
      " [-7.05274980e-01]\n",
      " [ 5.84863371e-01]\n",
      " [ 6.60749769e-01]\n",
      " [-7.79460028e-01]\n",
      " [ 6.15938948e-01]\n",
      " [-8.24859048e-01]\n",
      " [-3.24339919e-03]\n",
      " [-8.42215793e-01]\n",
      " [-7.14768728e-01]\n",
      " [-8.18331423e-01]\n",
      " [-6.23659580e-01]\n",
      " [ 5.23014434e-01]\n",
      " [ 1.58876642e-01]\n",
      " [-7.91418880e-01]\n",
      " [-5.46733534e-01]\n",
      " [ 5.79830944e-01]\n",
      " [-5.07494450e-01]\n",
      " [ 6.25703634e-01]\n",
      " [ 2.81329058e-01]\n",
      " [-6.89917531e-01]\n",
      " [ 2.25138263e+00]\n",
      " [-6.95697813e-01]\n",
      " [ 2.83910787e+00]\n",
      " [-4.55384901e-01]\n",
      " [-9.05805053e-01]\n",
      " [-4.79648583e-01]\n",
      " [ 3.90297167e-01]\n",
      " [-7.15658975e-01]\n",
      " [ 3.29157364e+00]\n",
      " [-7.78487731e-01]\n",
      " [-8.48452310e-01]\n",
      " [-4.49159153e-01]\n",
      " [-5.74982303e-01]\n",
      " [ 5.37733941e-01]\n",
      " [-7.63181221e-01]\n",
      " [-7.19831582e-01]\n",
      " [-5.62947897e-01]\n",
      " [ 2.42370941e+00]\n",
      " [-8.45613707e-01]\n",
      " [ 6.26081408e-01]\n",
      " [-5.82154024e-01]\n",
      " [ 6.84265767e-01]\n",
      " [ 1.96568220e-01]\n",
      " [ 6.44856941e-01]\n",
      " [ 6.22206576e-01]\n",
      " [-5.27684328e-01]\n",
      " [-2.69126809e-03]\n",
      " [-8.09213227e-01]\n",
      " [-8.14985304e-01]\n",
      " [-8.37453449e-01]\n",
      " [-5.62971657e-01]\n",
      " [-7.98326330e-01]\n",
      " [ 7.45988550e-01]\n",
      " [ 1.71367454e-01]\n",
      " [ 2.06265898e-01]\n",
      " [-6.27234244e-01]\n",
      " [-3.82413297e-02]\n",
      " [-2.09005727e-01]\n",
      " [ 1.06671026e-01]\n",
      " [ 1.38300444e-01]\n",
      " [-5.79963277e-01]\n",
      " [ 3.15134739e+00]\n",
      " [-5.38694300e-01]\n",
      " [-4.86791587e-01]\n",
      " [-4.42839731e-01]\n",
      " [-8.31859831e-01]\n",
      " [ 1.75461771e-01]\n",
      " [-7.05880054e-02]\n",
      " [-6.58724347e-01]\n",
      " [ 5.69389342e-01]\n",
      " [-7.84716897e-01]\n",
      " [ 6.66062193e-01]\n",
      " [-7.22451213e-01]\n",
      " [-3.43182931e-02]\n",
      " [ 3.52974816e-01]\n",
      " [ 2.75262124e+00]\n",
      " [-7.04043881e-01]\n",
      " [-8.19905937e-01]\n",
      " [ 2.96952225e+00]\n",
      " [-6.78014064e-01]\n",
      " [-8.37729514e-01]\n",
      " [-8.10182447e-01]\n",
      " [ 2.80715606e+00]\n",
      " [-4.66346156e-01]\n",
      " [ 1.44095815e+00]\n",
      " [ 8.99747871e-02]\n",
      " [ 1.66709771e+00]\n",
      " [-4.64127888e-01]\n",
      " [-7.71034474e-01]\n",
      " [-8.25024346e-01]\n",
      " [-8.12603790e-01]\n",
      " [-6.50292127e-01]\n",
      " [ 5.54249335e-03]\n",
      " [-7.31255054e-01]\n",
      " [-4.53511074e-01]\n",
      " [ 6.45800863e-01]\n",
      " [-7.62960882e-01]\n",
      " [ 2.08664506e-01]\n",
      " [-5.50830586e-01]\n",
      " [ 3.14393482e+00]\n",
      " [-6.98378811e-01]\n",
      " [-4.37081671e-01]\n",
      " [-6.39444033e-01]\n",
      " [-7.63221050e-01]\n",
      " [-7.53197563e-01]\n",
      " [ 6.22121107e-01]\n",
      " [-6.55577542e-01]\n",
      " [-8.26425699e-01]\n",
      " [-8.50654633e-02]\n",
      " [ 6.16677060e-01]\n",
      " [ 2.93591576e+00]\n",
      " [ 1.40879848e+00]\n",
      " [-5.43108785e-01]\n",
      " [-4.24768464e-01]\n",
      " [-6.72515317e-01]\n",
      " [-4.87049191e-01]\n",
      " [-4.69171378e-02]\n",
      " [ 6.60062255e-01]\n",
      " [-6.98503254e-01]\n",
      " [ 2.03264562e-01]\n",
      " [-5.51151095e-01]\n",
      " [-4.36605778e-01]\n",
      " [-6.32626325e-01]\n",
      " [-7.20777384e-01]\n",
      " [ 1.58381139e-02]\n",
      " [-8.03073119e-01]\n",
      " [-7.79516780e-01]\n",
      " [ 1.38550676e+00]\n",
      " [ 7.15736896e-01]\n",
      " [ 2.36010493e+00]\n",
      " [-6.25006575e-01]\n",
      " [ 5.81638447e-01]\n",
      " [ 2.47918234e+00]\n",
      " [-7.23198727e-01]\n",
      " [ 8.60085838e-01]\n",
      " [-7.87153624e-01]\n",
      " [-7.41606743e-01]\n",
      " [-6.24925892e-01]\n",
      " [-6.18181346e-01]\n",
      " [-3.77902280e-01]\n",
      " [ 5.15526306e-01]\n",
      " [-8.66270417e-01]\n",
      " [-6.12278159e-01]\n",
      " [-6.17160331e-01]\n",
      " [ 2.87558134e+00]\n",
      " [-7.56360950e-01]\n",
      " [-6.46141229e-01]\n",
      " [-6.87259439e-01]\n",
      " [-6.08691358e-01]\n",
      " [ 1.26763857e+00]\n",
      " [ 8.30014011e-01]\n",
      " [ 6.72212557e-01]\n",
      " [-4.99086332e-01]\n",
      " [-8.19044702e-02]\n",
      " [-7.54692078e-01]\n",
      " [ 7.34720290e-01]\n",
      " [-5.35397240e-01]\n",
      " [-8.06718722e-01]\n",
      " [-4.44187922e-01]\n",
      " [-5.66082737e-01]\n",
      " [-6.38767801e-01]\n",
      " [-6.59836302e-01]\n",
      " [ 3.82572802e-01]\n",
      " [-4.18885960e-01]\n",
      " [-7.75923142e-01]\n",
      " [ 3.50258605e-01]\n",
      " [-4.18246651e-01]\n",
      " [ 1.47126827e+00]\n",
      " [-4.31092330e-01]\n",
      " [ 6.57973388e-01]\n",
      " [-8.50793141e-01]\n",
      " [-6.76395619e-01]\n",
      " [-6.80912666e-01]\n",
      " [-7.53779267e-01]\n",
      " [ 7.12314025e-01]\n",
      " [-6.49391746e-02]\n",
      " [-5.92735283e-01]\n",
      " [-5.31826679e-01]\n",
      " [-7.82443929e-01]\n",
      " [-5.42539731e-01]\n",
      " [ 1.02161648e+00]\n",
      " [ 2.31390644e+00]\n",
      " [ 7.60753185e-01]\n",
      " [-7.07453590e-01]\n",
      " [-8.36309187e-01]\n",
      " [-4.97317290e-01]\n",
      " [ 5.74246386e-01]\n",
      " [ 1.45706123e+00]\n",
      " [-6.25493407e-01]\n",
      " [-8.34432796e-01]\n",
      " [ 6.49089376e-01]\n",
      " [-4.91668118e-01]\n",
      " [ 7.45226507e-01]\n",
      " [-7.06772400e-01]\n",
      " [ 3.94199007e-01]\n",
      " [ 2.61168115e+00]\n",
      " [-5.94594409e-01]\n",
      " [-4.11060058e-01]\n",
      " [ 5.94807884e-01]\n",
      " [ 6.28778132e-01]\n",
      " [-5.36855003e-01]\n",
      " [-7.60573385e-01]\n",
      " [ 6.54504022e-01]\n",
      " [-5.48195228e-01]\n",
      " [ 7.60410966e-01]\n",
      " [-4.44320400e-01]\n",
      " [-7.30122416e-01]\n",
      " [-8.35193814e-01]\n",
      " [-8.20776355e-01]\n",
      " [ 1.75272371e-01]\n",
      " [-6.90592054e-01]\n",
      " [-7.17440496e-01]\n",
      " [-6.70127820e-01]\n",
      " [-5.35567495e-01]\n",
      " [-7.78472175e-01]\n",
      " [ 1.33535548e+00]\n",
      " [ 6.45363945e-01]\n",
      " [ 1.43116817e+00]\n",
      " [-5.51725961e-01]\n",
      " [ 5.94340538e-01]\n",
      " [ 2.36571992e+00]\n",
      " [-7.81963763e-01]\n",
      " [-4.71566102e-01]\n",
      " [ 1.42700650e+00]\n",
      " [-6.71712419e-01]\n",
      " [ 1.67359632e-01]\n",
      " [-4.49876582e-01]\n",
      " [ 5.04951030e-01]\n",
      " [-7.57431879e-01]\n",
      " [ 1.41684114e+00]\n",
      " [-4.51239474e-01]\n",
      " [-8.40679057e-01]\n",
      " [ 1.43226081e+00]\n",
      " [ 2.68097001e+00]\n",
      " [-9.02481156e-01]\n",
      " [ 2.87292769e+00]\n",
      " [-5.44887057e-01]\n",
      " [-7.44483807e-01]\n",
      " [ 6.83879104e-01]\n",
      " [-7.84501686e-01]\n",
      " [-6.80205836e-01]\n",
      " [-8.00536564e-01]\n",
      " [ 7.41192019e-01]\n",
      " [ 9.72694129e-02]\n",
      " [ 7.23376817e-01]\n",
      " [-6.25418707e-01]\n",
      " [-6.51217929e-01]\n",
      " [-6.95221237e-01]\n",
      " [ 1.55773768e-01]\n",
      " [ 7.74023134e-01]\n",
      " [-7.49402047e-01]\n",
      " [-4.57310180e-01]\n",
      " [-6.14335402e-01]\n",
      " [-8.38326602e-01]]\n"
     ]
    }
   ],
   "source": [
    "print(X_train)"
   ]
  },
  {
   "cell_type": "code",
   "execution_count": 22,
   "metadata": {
    "colab": {
     "base_uri": "https://localhost:8080/"
    },
    "executionInfo": {
     "elapsed": 18,
     "status": "ok",
     "timestamp": 1667109118372,
     "user": {
      "displayName": "Hadelin de Ponteves",
      "userId": "15047218817161520419"
     },
     "user_tz": -240
    },
    "id": "JUd6iBRp2C3L",
    "outputId": "29baf2c2-94f4-426f-a95f-3feb2effe729",
    "scrolled": true
   },
   "outputs": [
    {
     "name": "stdout",
     "output_type": "stream",
     "text": [
      "[[-0.43411435]\n",
      " [ 0.75323053]\n",
      " [-0.51986526]\n",
      " [-0.45151434]\n",
      " [-0.79891436]\n",
      " [ 2.32415283]\n",
      " [-0.75471379]\n",
      " [ 0.55510368]\n",
      " [ 0.21059782]\n",
      " [-0.72943268]\n",
      " [-0.48664783]\n",
      " [-0.51749264]\n",
      " [ 0.72219016]\n",
      " [ 0.76081712]\n",
      " [ 0.55330062]\n",
      " [-0.61776887]\n",
      " [ 0.93344235]\n",
      " [-0.43734509]\n",
      " [-0.12119295]\n",
      " [-0.49963863]\n",
      " [-0.52903679]\n",
      " [-0.65882913]\n",
      " [-0.75129177]\n",
      " [ 1.00615203]\n",
      " [ 0.63612848]\n",
      " [ 0.19590874]\n",
      " [-0.64665951]\n",
      " [ 1.46035693]\n",
      " [-0.44483732]\n",
      " [-0.73979001]\n",
      " [-0.4717155 ]\n",
      " [-0.42747049]\n",
      " [-0.63857806]\n",
      " [-0.5251688 ]\n",
      " [-0.74774634]\n",
      " [-0.65465157]\n",
      " [-0.73033438]\n",
      " [-0.54649542]\n",
      " [ 0.72689131]\n",
      " [-0.79989281]\n",
      " [-0.75372081]\n",
      " [ 0.50654623]\n",
      " [-0.59115752]\n",
      " [ 0.72398091]\n",
      " [-0.50948571]\n",
      " [ 0.54186313]\n",
      " [-0.50686283]\n",
      " [-0.48625501]\n",
      " [ 0.0595539 ]\n",
      " [-0.78751841]\n",
      " [-0.84387988]\n",
      " [-0.13692681]\n",
      " [ 0.14561114]\n",
      " [-0.84663694]\n",
      " [-0.47672537]\n",
      " [-0.72481119]\n",
      " [-0.75874315]\n",
      " [-0.55099674]\n",
      " [-0.79977076]\n",
      " [-0.85019263]\n",
      " [ 1.07623609]\n",
      " [ 0.59214637]\n",
      " [-0.71820886]\n",
      " [-0.44013702]\n",
      " [ 1.12197784]\n",
      " [ 1.89140993]\n",
      " [-0.73846814]\n",
      " [-0.48710116]\n",
      " [-0.11532259]\n",
      " [-0.82134626]\n",
      " [-0.73510048]\n",
      " [-0.80817426]\n",
      " [-0.34992992]\n",
      " [ 0.97615644]\n",
      " [-0.72192011]\n",
      " [ 0.09823043]\n",
      " [ 0.53137811]\n",
      " [ 0.6652834 ]\n",
      " [ 0.02971318]\n",
      " [ 1.24875329]\n",
      " [-0.45854196]\n",
      " [-0.53022943]\n",
      " [-0.53088771]\n",
      " [-0.68401947]\n",
      " [ 2.88085103]\n",
      " [ 1.42298876]\n",
      " [ 0.40283584]\n",
      " [-0.75276287]\n",
      " [ 0.56498358]\n",
      " [ 0.69741059]\n",
      " [ 0.76191898]\n",
      " [-0.46694444]]\n"
     ]
    }
   ],
   "source": [
    "print(X_test)"
   ]
  },
  {
   "cell_type": "markdown",
   "metadata": {
    "id": "bb6jCOCQiAmP"
   },
   "source": [
    "## Training the Logistic Regression model on the Training set\n",
    "\n",
    "Logistic regression is a type of regression analysis used for predicting the probability of a binary outcome.\n",
    "\n",
    "random_state = 0, is provided to ensure reproducibility, meaning that if the same code is run multiple times with the same random state, it will produce the same results."
   ]
  },
  {
   "cell_type": "code",
   "execution_count": 23,
   "metadata": {
    "colab": {
     "base_uri": "https://localhost:8080/"
    },
    "executionInfo": {
     "elapsed": 12,
     "status": "ok",
     "timestamp": 1667109118372,
     "user": {
      "displayName": "Hadelin de Ponteves",
      "userId": "15047218817161520419"
     },
     "user_tz": -240
    },
    "id": "e0pFVAmciHQs",
    "outputId": "4bfed7d3-8e22-4210-e969-3c878da6c057"
   },
   "outputs": [
    {
     "data": {
      "text/html": [
       "<style>#sk-container-id-1 {color: black;}#sk-container-id-1 pre{padding: 0;}#sk-container-id-1 div.sk-toggleable {background-color: white;}#sk-container-id-1 label.sk-toggleable__label {cursor: pointer;display: block;width: 100%;margin-bottom: 0;padding: 0.3em;box-sizing: border-box;text-align: center;}#sk-container-id-1 label.sk-toggleable__label-arrow:before {content: \"▸\";float: left;margin-right: 0.25em;color: #696969;}#sk-container-id-1 label.sk-toggleable__label-arrow:hover:before {color: black;}#sk-container-id-1 div.sk-estimator:hover label.sk-toggleable__label-arrow:before {color: black;}#sk-container-id-1 div.sk-toggleable__content {max-height: 0;max-width: 0;overflow: hidden;text-align: left;background-color: #f0f8ff;}#sk-container-id-1 div.sk-toggleable__content pre {margin: 0.2em;color: black;border-radius: 0.25em;background-color: #f0f8ff;}#sk-container-id-1 input.sk-toggleable__control:checked~div.sk-toggleable__content {max-height: 200px;max-width: 100%;overflow: auto;}#sk-container-id-1 input.sk-toggleable__control:checked~label.sk-toggleable__label-arrow:before {content: \"▾\";}#sk-container-id-1 div.sk-estimator input.sk-toggleable__control:checked~label.sk-toggleable__label {background-color: #d4ebff;}#sk-container-id-1 div.sk-label input.sk-toggleable__control:checked~label.sk-toggleable__label {background-color: #d4ebff;}#sk-container-id-1 input.sk-hidden--visually {border: 0;clip: rect(1px 1px 1px 1px);clip: rect(1px, 1px, 1px, 1px);height: 1px;margin: -1px;overflow: hidden;padding: 0;position: absolute;width: 1px;}#sk-container-id-1 div.sk-estimator {font-family: monospace;background-color: #f0f8ff;border: 1px dotted black;border-radius: 0.25em;box-sizing: border-box;margin-bottom: 0.5em;}#sk-container-id-1 div.sk-estimator:hover {background-color: #d4ebff;}#sk-container-id-1 div.sk-parallel-item::after {content: \"\";width: 100%;border-bottom: 1px solid gray;flex-grow: 1;}#sk-container-id-1 div.sk-label:hover label.sk-toggleable__label {background-color: #d4ebff;}#sk-container-id-1 div.sk-serial::before {content: \"\";position: absolute;border-left: 1px solid gray;box-sizing: border-box;top: 0;bottom: 0;left: 50%;z-index: 0;}#sk-container-id-1 div.sk-serial {display: flex;flex-direction: column;align-items: center;background-color: white;padding-right: 0.2em;padding-left: 0.2em;position: relative;}#sk-container-id-1 div.sk-item {position: relative;z-index: 1;}#sk-container-id-1 div.sk-parallel {display: flex;align-items: stretch;justify-content: center;background-color: white;position: relative;}#sk-container-id-1 div.sk-item::before, #sk-container-id-1 div.sk-parallel-item::before {content: \"\";position: absolute;border-left: 1px solid gray;box-sizing: border-box;top: 0;bottom: 0;left: 50%;z-index: -1;}#sk-container-id-1 div.sk-parallel-item {display: flex;flex-direction: column;z-index: 1;position: relative;background-color: white;}#sk-container-id-1 div.sk-parallel-item:first-child::after {align-self: flex-end;width: 50%;}#sk-container-id-1 div.sk-parallel-item:last-child::after {align-self: flex-start;width: 50%;}#sk-container-id-1 div.sk-parallel-item:only-child::after {width: 0;}#sk-container-id-1 div.sk-dashed-wrapped {border: 1px dashed gray;margin: 0 0.4em 0.5em 0.4em;box-sizing: border-box;padding-bottom: 0.4em;background-color: white;}#sk-container-id-1 div.sk-label label {font-family: monospace;font-weight: bold;display: inline-block;line-height: 1.2em;}#sk-container-id-1 div.sk-label-container {text-align: center;}#sk-container-id-1 div.sk-container {/* jupyter's `normalize.less` sets `[hidden] { display: none; }` but bootstrap.min.css set `[hidden] { display: none !important; }` so we also need the `!important` here to be able to override the default hidden behavior on the sphinx rendered scikit-learn.org. See: https://github.com/scikit-learn/scikit-learn/issues/21755 */display: inline-block !important;position: relative;}#sk-container-id-1 div.sk-text-repr-fallback {display: none;}</style><div id=\"sk-container-id-1\" class=\"sk-top-container\"><div class=\"sk-text-repr-fallback\"><pre>LogisticRegression(random_state=0)</pre><b>In a Jupyter environment, please rerun this cell to show the HTML representation or trust the notebook. <br />On GitHub, the HTML representation is unable to render, please try loading this page with nbviewer.org.</b></div><div class=\"sk-container\" hidden><div class=\"sk-item\"><div class=\"sk-estimator sk-toggleable\"><input class=\"sk-toggleable__control sk-hidden--visually\" id=\"sk-estimator-id-1\" type=\"checkbox\" checked><label for=\"sk-estimator-id-1\" class=\"sk-toggleable__label sk-toggleable__label-arrow\">LogisticRegression</label><div class=\"sk-toggleable__content\"><pre>LogisticRegression(random_state=0)</pre></div></div></div></div></div>"
      ],
      "text/plain": [
       "LogisticRegression(random_state=0)"
      ]
     },
     "execution_count": 23,
     "metadata": {},
     "output_type": "execute_result"
    }
   ],
   "source": [
    "from sklearn.linear_model import LogisticRegression\n",
    "classifier = LogisticRegression(random_state = 0)\n",
    "classifier.fit(X_train, y_train)"
   ]
  },
  {
   "cell_type": "markdown",
   "metadata": {
    "id": "yyxW5b395mR2"
   },
   "source": [
    "## Predicting a new result"
   ]
  },
  {
   "cell_type": "code",
   "execution_count": 37,
   "metadata": {
    "colab": {
     "base_uri": "https://localhost:8080/"
    },
    "executionInfo": {
     "elapsed": 11,
     "status": "ok",
     "timestamp": 1667109118373,
     "user": {
      "displayName": "Hadelin de Ponteves",
      "userId": "15047218817161520419"
     },
     "user_tz": -240
    },
    "id": "f8YOXsQy58rP",
    "outputId": "96fe2215-c880-4312-fc36-058f3ea14e24"
   },
   "outputs": [
    {
     "name": "stdout",
     "output_type": "stream",
     "text": [
      "[1]\n"
     ]
    }
   ],
   "source": [
    "print(classifier.predict(sc.transform([[29402.779203]])))"
   ]
  },
  {
   "cell_type": "markdown",
   "metadata": {
    "id": "vKYVQH-l5NpE"
   },
   "source": [
    "## Predicting the Test set results"
   ]
  },
  {
   "cell_type": "code",
   "execution_count": 38,
   "metadata": {
    "colab": {
     "base_uri": "https://localhost:8080/"
    },
    "executionInfo": {
     "elapsed": 9,
     "status": "ok",
     "timestamp": 1667109118373,
     "user": {
      "displayName": "Hadelin de Ponteves",
      "userId": "15047218817161520419"
     },
     "user_tz": -240
    },
    "id": "p6VMTb2O4hwM",
    "outputId": "c3e405c8-8557-4771-d001-97887b8e5f76",
    "scrolled": true
   },
   "outputs": [
    {
     "name": "stdout",
     "output_type": "stream",
     "text": [
      "[[1 0]\n",
      " [1 0]\n",
      " [1 0]\n",
      " [1 0]\n",
      " [1 1]\n",
      " [1 1]\n",
      " [1 1]\n",
      " [1 1]\n",
      " [1 0]\n",
      " [1 1]\n",
      " [1 0]\n",
      " [1 0]\n",
      " [1 1]\n",
      " [1 1]\n",
      " [1 1]\n",
      " [1 0]\n",
      " [1 1]\n",
      " [1 1]\n",
      " [1 1]\n",
      " [1 0]\n",
      " [1 0]\n",
      " [1 1]\n",
      " [1 1]\n",
      " [1 0]\n",
      " [1 0]\n",
      " [1 1]\n",
      " [1 0]\n",
      " [1 0]\n",
      " [1 1]\n",
      " [1 0]\n",
      " [1 0]\n",
      " [1 1]\n",
      " [1 0]\n",
      " [1 0]\n",
      " [1 1]\n",
      " [1 0]\n",
      " [1 0]\n",
      " [1 1]\n",
      " [1 0]\n",
      " [1 1]\n",
      " [1 0]\n",
      " [1 1]\n",
      " [1 1]\n",
      " [1 0]\n",
      " [1 1]\n",
      " [1 0]\n",
      " [1 1]\n",
      " [1 1]\n",
      " [1 1]\n",
      " [1 1]\n",
      " [1 0]\n",
      " [1 1]\n",
      " [1 0]\n",
      " [1 1]\n",
      " [1 0]\n",
      " [1 0]\n",
      " [1 0]\n",
      " [1 0]\n",
      " [1 1]\n",
      " [1 1]\n",
      " [1 1]\n",
      " [1 0]\n",
      " [1 1]\n",
      " [1 1]\n",
      " [1 1]\n",
      " [1 1]\n",
      " [1 1]\n",
      " [1 0]\n",
      " [1 0]\n",
      " [1 1]\n",
      " [1 1]\n",
      " [1 0]\n",
      " [1 0]\n",
      " [1 0]\n",
      " [1 0]\n",
      " [1 0]\n",
      " [1 0]\n",
      " [1 1]\n",
      " [1 1]\n",
      " [1 1]\n",
      " [1 0]\n",
      " [1 0]\n",
      " [1 0]\n",
      " [1 0]\n",
      " [1 0]\n",
      " [1 1]\n",
      " [1 0]\n",
      " [1 0]\n",
      " [1 1]\n",
      " [1 0]\n",
      " [1 0]\n",
      " [1 1]]\n"
     ]
    }
   ],
   "source": [
    "y_pred = classifier.predict(X_test)\n",
    "print(np.concatenate((y_pred.reshape(len(y_pred),1), y_test.reshape(len(y_test),1)),1))"
   ]
  },
  {
   "cell_type": "markdown",
   "metadata": {
    "id": "h4Hwj34ziWQW"
   },
   "source": [
    "## Making the Confusion Matrix\n",
    "\n",
    "The confusion matrix gives a summary of prediction results on a classification problem. It shows the number of true positives (TP), true negatives (TN), false positives (FP), and false negatives (FN)."
   ]
  },
  {
   "cell_type": "code",
   "execution_count": 39,
   "metadata": {
    "colab": {
     "base_uri": "https://localhost:8080/"
    },
    "executionInfo": {
     "elapsed": 8,
     "status": "ok",
     "timestamp": 1667109118374,
     "user": {
      "displayName": "Hadelin de Ponteves",
      "userId": "15047218817161520419"
     },
     "user_tz": -240
    },
    "id": "D6bpZwUiiXic",
    "outputId": "5cf1e04b-2ef1-4799-ff91-19a2fa62d46b"
   },
   "outputs": [
    {
     "name": "stdout",
     "output_type": "stream",
     "text": [
      "[[ 0 48]\n",
      " [ 0 44]]\n"
     ]
    },
    {
     "data": {
      "text/plain": [
       "0.4782608695652174"
      ]
     },
     "execution_count": 39,
     "metadata": {},
     "output_type": "execute_result"
    }
   ],
   "source": [
    "import seaborn as sns\n",
    "from sklearn.metrics import confusion_matrix, accuracy_score\n",
    "cm = confusion_matrix(y_test, y_pred)\n",
    "print(cm)\n",
    "accuracy_score(y_test, y_pred)\n"
   ]
  },
  {
   "cell_type": "markdown",
   "metadata": {
    "id": "6OMC_P0diaoD"
   },
   "source": [
    "# Visualize the confusion matrix\n",
    "We see that:\n",
    "- True Negative = 0\n",
    "- False Negative = 48\n",
    "- False Positive = 0\n",
    "- True Positive = 44"
   ]
  },
  {
   "cell_type": "code",
   "execution_count": 50,
   "metadata": {},
   "outputs": [
    {
     "data": {
      "image/png": "[encoded data removed]",
      "text/plain": [
       "<Figure size 800x600 with 1 Axes>"
      ]
     },
     "metadata": {},
     "output_type": "display_data"
    }
   ],
   "source": [
    "plt.figure(figsize=(8, 6))\n",
    "sns.heatmap(cm, annot=True, cmap='Blues', fmt='g', cbar=False)\n",
    "plt.title('Confusion Matrix for Random Forest Classifier')\n",
    "plt.xlabel('Predicted Labels')\n",
    "plt.ylabel('True Labels')\n",
    "plt.show()"
   ]
  },
  {
   "cell_type": "markdown",
   "metadata": {},
   "source": [
    "## Evaluation metrics\n",
    "\n",
    "Are quantitative measures used to assess the performance of a machine learning model. These metrics help determine how well a model is making predictions and can vary depending on the type of problem (classification, regression, clustering, etc.)."
   ]
  },
  {
   "cell_type": "code",
   "execution_count": 41,
   "metadata": {},
   "outputs": [],
   "source": [
    "from sklearn.metrics import precision_score\n",
    "from sklearn.metrics import recall_score\n",
    "from sklearn.metrics import f1_score\n",
    "from sklearn.metrics import roc_auc_score\n",
    "from sklearn.metrics import classification_report"
   ]
  },
  {
   "cell_type": "markdown",
   "metadata": {},
   "source": [
    "## Accuracy Score:\n",
    "\n",
    "- The proportion of correctly predicted instances (both true positives and true negatives) out of the total instances."
   ]
  },
  {
   "cell_type": "code",
   "execution_count": 42,
   "metadata": {},
   "outputs": [
    {
     "name": "stdout",
     "output_type": "stream",
     "text": [
      "Accuracy: 0.4782608695652174\n"
     ]
    }
   ],
   "source": [
    "accuracy = accuracy_score(y_test, y_pred)\n",
    "print('Accuracy:', accuracy)"
   ]
  },
  {
   "cell_type": "markdown",
   "metadata": {},
   "source": [
    "## Precision:\n",
    "\n",
    "- Precision is the ratio of correctly predicted positive observations to the total predicted positives. It is a measure of the accuracy of the positive predictions\n",
    "\n",
    "OR\n",
    "- The proportion of true positive predictions out of all positive predictions (i.e., the accuracy of positive predictions)"
   ]
  },
  {
   "cell_type": "code",
   "execution_count": 43,
   "metadata": {},
   "outputs": [
    {
     "name": "stdout",
     "output_type": "stream",
     "text": [
      "Precision: 0.4782608695652174\n"
     ]
    }
   ],
   "source": [
    "precision = precision_score(y_test, y_pred)\n",
    "print('Precision:', precision)"
   ]
  },
  {
   "cell_type": "markdown",
   "metadata": {},
   "source": [
    "## Recall (Sensitivity):\n",
    "\n",
    "- Recall is the ratio of correctly predicted positive observations to the all observations in actual class.\n",
    "\n",
    "OR\n",
    "- The proportion of true positive predictions out of all actual positives"
   ]
  },
  {
   "cell_type": "code",
   "execution_count": 44,
   "metadata": {},
   "outputs": [
    {
     "name": "stdout",
     "output_type": "stream",
     "text": [
      "Recall: 1.0\n"
     ]
    }
   ],
   "source": [
    "recall = recall_score(y_test, y_pred)\n",
    "print('Recall:', recall)"
   ]
  },
  {
   "cell_type": "markdown",
   "metadata": {},
   "source": [
    "## F1 Score:\n",
    "\n",
    "- The F1 Score is the weighted average of Precision and Recall. It tries to find the balance between Precision and Recall.\n",
    "\n",
    "OR\n",
    "- The harmonic mean of precision and recall, providing a balance between the two."
   ]
  },
  {
   "cell_type": "code",
   "execution_count": 45,
   "metadata": {},
   "outputs": [
    {
     "name": "stdout",
     "output_type": "stream",
     "text": [
      "F1 Score: 0.6470588235294118\n"
     ]
    }
   ],
   "source": [
    "f1 = f1_score(y_test, y_pred)\n",
    "print('F1 Score:', f1)"
   ]
  },
  {
   "cell_type": "markdown",
   "metadata": {},
   "source": [
    "## ROC-AUC Score:\n",
    "\n",
    "- The area under the Receiver Operating Characteristic (ROC) curve, which plots the true positive rate against the false positive rate at various threshold settings. The AUC (Area Under the Curve) score ranges from 0 to 1, with higher values indicating better performance."
   ]
  },
  {
   "cell_type": "code",
   "execution_count": 46,
   "metadata": {},
   "outputs": [
    {
     "name": "stdout",
     "output_type": "stream",
     "text": [
      "ROC-AUC Score: 0.5\n"
     ]
    }
   ],
   "source": [
    "roc_auc = roc_auc_score(y_test, y_pred)\n",
    "print('ROC-AUC Score:', roc_auc)"
   ]
  },
  {
   "cell_type": "code",
   "execution_count": 47,
   "metadata": {},
   "outputs": [
    {
     "data": {
      "text/html": [
       "<div>\n",
       "<style scoped>\n",
       "    .dataframe tbody tr th:only-of-type {\n",
       "        vertical-align: middle;\n",
       "    }\n",
       "\n",
       "    .dataframe tbody tr th {\n",
       "        vertical-align: top;\n",
       "    }\n",
       "\n",
       "    .dataframe thead th {\n",
       "        text-align: right;\n",
       "    }\n",
       "</style>\n",
       "<table border=\"1\" class=\"dataframe\">\n",
       "  <thead>\n",
       "    <tr style=\"text-align: right;\">\n",
       "      <th></th>\n",
       "      <th>0</th>\n",
       "      <th>1</th>\n",
       "      <th>2</th>\n",
       "      <th>3</th>\n",
       "      <th>4</th>\n",
       "    </tr>\n",
       "  </thead>\n",
       "  <tbody>\n",
       "    <tr>\n",
       "      <th>0</th>\n",
       "      <td>Accuracy</td>\n",
       "      <td>Precision</td>\n",
       "      <td>Recall</td>\n",
       "      <td>F1-score</td>\n",
       "      <td>AUC</td>\n",
       "    </tr>\n",
       "    <tr>\n",
       "      <th>1</th>\n",
       "      <td>0.478261</td>\n",
       "      <td>0.478261</td>\n",
       "      <td>1.0</td>\n",
       "      <td>0.647059</td>\n",
       "      <td>0.5</td>\n",
       "    </tr>\n",
       "  </tbody>\n",
       "</table>\n",
       "</div>"
      ],
      "text/plain": [
       "          0          1       2         3    4\n",
       "0  Accuracy  Precision  Recall  F1-score  AUC\n",
       "1  0.478261   0.478261     1.0  0.647059  0.5"
      ]
     },
     "execution_count": 47,
     "metadata": {},
     "output_type": "execute_result"
    }
   ],
   "source": [
    "pd.DataFrame(zip(['Accuracy','Precision','Recall','F1-score','AUC'],[accuracy , precision , recall, f1 , roc_auc])).transpose()"
   ]
  },
  {
   "cell_type": "markdown",
   "metadata": {},
   "source": [
    "## Classification Report:\n",
    "\n",
    "- The classification report provides a detailed account of Precision, Recall, F1 Score, and Support for each class"
   ]
  },
  {
   "cell_type": "code",
   "execution_count": 48,
   "metadata": {},
   "outputs": [
    {
     "name": "stdout",
     "output_type": "stream",
     "text": [
      "Classification Report:\n",
      "               precision    recall  f1-score   support\n",
      "\n",
      "           0       0.00      0.00      0.00        48\n",
      "           1       0.48      1.00      0.65        44\n",
      "\n",
      "    accuracy                           0.48        92\n",
      "   macro avg       0.24      0.50      0.32        92\n",
      "weighted avg       0.23      0.48      0.31        92\n",
      "\n"
     ]
    },
    {
     "name": "stderr",
     "output_type": "stream",
     "text": [
      "C:\\Users\\hania\\anaconda3\\Lib\\site-packages\\sklearn\\metrics\\_classification.py:1469: UndefinedMetricWarning: Precision and F-score are ill-defined and being set to 0.0 in labels with no predicted samples. Use `zero_division` parameter to control this behavior.\n",
      "  _warn_prf(average, modifier, msg_start, len(result))\n",
      "C:\\Users\\hania\\anaconda3\\Lib\\site-packages\\sklearn\\metrics\\_classification.py:1469: UndefinedMetricWarning: Precision and F-score are ill-defined and being set to 0.0 in labels with no predicted samples. Use `zero_division` parameter to control this behavior.\n",
      "  _warn_prf(average, modifier, msg_start, len(result))\n",
      "C:\\Users\\hania\\anaconda3\\Lib\\site-packages\\sklearn\\metrics\\_classification.py:1469: UndefinedMetricWarning: Precision and F-score are ill-defined and being set to 0.0 in labels with no predicted samples. Use `zero_division` parameter to control this behavior.\n",
      "  _warn_prf(average, modifier, msg_start, len(result))\n"
     ]
    }
   ],
   "source": [
    " "
   ]
  },
  {
   "cell_type": "code",
   "execution_count": null,
   "metadata": {},
   "outputs": [],
   "source": []
  },
  {
   "cell_type": "code",
   "execution_count": null,
   "metadata": {},
   "outputs": [],
   "source": []
  }
 ],
 "metadata": {
  "colab": {
   "authorship_tag": "ABX9TyNieZI1QDG4Rz2KvOSRGYud",
   "collapsed_sections": [],
   "machine_shape": "hm",
   "provenance": []
  },
  "kernelspec": {
   "display_name": "Python 3 (ipykernel)",
   "language": "python",
   "name": "python3"
  },
  "language_info": {
   "codemirror_mode": {
    "name": "ipython",
    "version": 3
   },
   "file_extension": ".py",
   "mimetype": "text/x-python",
   "name": "python",
   "nbconvert_exporter": "python",
   "pygments_lexer": "ipython3",
   "version": "3.11.5"
  }
 },
 "nbformat": 4,
 "nbformat_minor": 1
}
